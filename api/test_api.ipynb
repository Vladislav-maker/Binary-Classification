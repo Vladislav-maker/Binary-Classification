{
 "cells": [
  {
   "cell_type": "code",
   "execution_count": 62,
   "id": "ef325d53",
   "metadata": {},
   "outputs": [],
   "source": [
    "import pandas as pd\n",
    "import requests\n",
    "from sklearn.metrics import classification_report\n"
   ]
  },
  {
   "cell_type": "code",
   "execution_count": null,
   "id": "586f7374",
   "metadata": {},
   "outputs": [
    {
     "data": {
      "text/html": [
       "<div>\n",
       "<style scoped>\n",
       "    .dataframe tbody tr th:only-of-type {\n",
       "        vertical-align: middle;\n",
       "    }\n",
       "\n",
       "    .dataframe tbody tr th {\n",
       "        vertical-align: top;\n",
       "    }\n",
       "\n",
       "    .dataframe thead th {\n",
       "        text-align: right;\n",
       "    }\n",
       "</style>\n",
       "<table border=\"1\" class=\"dataframe\">\n",
       "  <thead>\n",
       "    <tr style=\"text-align: right;\">\n",
       "      <th></th>\n",
       "      <th>Age</th>\n",
       "      <th>Annual_Premium</th>\n",
       "      <th>Driving_License</th>\n",
       "      <th>Gender</th>\n",
       "      <th>Policy_Sales_Channel</th>\n",
       "      <th>Previously_Insured</th>\n",
       "      <th>Region_Code</th>\n",
       "      <th>Vehicle_Age</th>\n",
       "      <th>Vehicle_Damage</th>\n",
       "      <th>Vintage</th>\n",
       "      <th>id</th>\n",
       "      <th>Response</th>\n",
       "    </tr>\n",
       "  </thead>\n",
       "  <tbody>\n",
       "    <tr>\n",
       "      <th>0</th>\n",
       "      <td>21</td>\n",
       "      <td>30903.0</td>\n",
       "      <td>1</td>\n",
       "      <td>Female</td>\n",
       "      <td>160.0</td>\n",
       "      <td>1</td>\n",
       "      <td>17.0</td>\n",
       "      <td>&lt; 1 Year</td>\n",
       "      <td>No</td>\n",
       "      <td>189</td>\n",
       "      <td>10576770</td>\n",
       "      <td>0</td>\n",
       "    </tr>\n",
       "    <tr>\n",
       "      <th>1</th>\n",
       "      <td>58</td>\n",
       "      <td>55769.0</td>\n",
       "      <td>1</td>\n",
       "      <td>Male</td>\n",
       "      <td>26.0</td>\n",
       "      <td>0</td>\n",
       "      <td>28.0</td>\n",
       "      <td>&gt; 2 Years</td>\n",
       "      <td>Yes</td>\n",
       "      <td>144</td>\n",
       "      <td>2263379</td>\n",
       "      <td>0</td>\n",
       "    </tr>\n",
       "    <tr>\n",
       "      <th>2</th>\n",
       "      <td>58</td>\n",
       "      <td>64560.0</td>\n",
       "      <td>1</td>\n",
       "      <td>Male</td>\n",
       "      <td>26.0</td>\n",
       "      <td>0</td>\n",
       "      <td>28.0</td>\n",
       "      <td>&gt; 2 Years</td>\n",
       "      <td>Yes</td>\n",
       "      <td>270</td>\n",
       "      <td>6071591</td>\n",
       "      <td>0</td>\n",
       "    </tr>\n",
       "    <tr>\n",
       "      <th>3</th>\n",
       "      <td>41</td>\n",
       "      <td>29610.0</td>\n",
       "      <td>1</td>\n",
       "      <td>Female</td>\n",
       "      <td>26.0</td>\n",
       "      <td>0</td>\n",
       "      <td>8.0</td>\n",
       "      <td>1-2 Year</td>\n",
       "      <td>No</td>\n",
       "      <td>284</td>\n",
       "      <td>1799994</td>\n",
       "      <td>0</td>\n",
       "    </tr>\n",
       "    <tr>\n",
       "      <th>4</th>\n",
       "      <td>24</td>\n",
       "      <td>38228.0</td>\n",
       "      <td>1</td>\n",
       "      <td>Male</td>\n",
       "      <td>152.0</td>\n",
       "      <td>1</td>\n",
       "      <td>41.0</td>\n",
       "      <td>&lt; 1 Year</td>\n",
       "      <td>No</td>\n",
       "      <td>177</td>\n",
       "      <td>3779422</td>\n",
       "      <td>0</td>\n",
       "    </tr>\n",
       "  </tbody>\n",
       "</table>\n",
       "</div>"
      ],
      "text/plain": [
       "   Age  Annual_Premium  Driving_License  Gender  Policy_Sales_Channel  \\\n",
       "0   21         30903.0                1  Female                 160.0   \n",
       "1   58         55769.0                1    Male                  26.0   \n",
       "2   58         64560.0                1    Male                  26.0   \n",
       "3   41         29610.0                1  Female                  26.0   \n",
       "4   24         38228.0                1    Male                 152.0   \n",
       "\n",
       "   Previously_Insured  Region_Code Vehicle_Age Vehicle_Damage  Vintage  \\\n",
       "0                   1         17.0    < 1 Year             No      189   \n",
       "1                   0         28.0   > 2 Years            Yes      144   \n",
       "2                   0         28.0   > 2 Years            Yes      270   \n",
       "3                   0          8.0    1-2 Year             No      284   \n",
       "4                   1         41.0    < 1 Year             No      177   \n",
       "\n",
       "         id  Response  \n",
       "0  10576770         0  \n",
       "1   2263379         0  \n",
       "2   6071591         0  \n",
       "3   1799994         0  \n",
       "4   3779422         0  "
      ]
     },
     "execution_count": 69,
     "metadata": {},
     "output_type": "execute_result"
    }
   ],
   "source": [
    "df = pd.read_csv('test_data.csv')\n",
    "df.head()"
   ]
  },
  {
   "cell_type": "code",
   "execution_count": 70,
   "id": "5281f6e9",
   "metadata": {},
   "outputs": [],
   "source": [
    "df, y = df.drop(['id', 'Response'], axis = 1), df['Response']"
   ]
  },
  {
   "cell_type": "code",
   "execution_count": null,
   "id": "5d08b7c8",
   "metadata": {},
   "outputs": [],
   "source": [
    "vechicle_age = {'1-2 Year' : 1, '< 1 Year' : 0, '> 2 Years' : 3 }\n",
    "df['Vehicle_Age'] = df['Vehicle_Age'].map(vechicle_age)"
   ]
  },
  {
   "cell_type": "code",
   "execution_count": 72,
   "id": "b52ed226",
   "metadata": {},
   "outputs": [
    {
     "data": {
      "text/plain": [
       "{'Age': 21,\n",
       " 'Annual_Premium': 30903.0,\n",
       " 'Driving_License': 1,\n",
       " 'Gender': 'Female',\n",
       " 'Policy_Sales_Channel': 160.0,\n",
       " 'Previously_Insured': 1,\n",
       " 'Region_Code': 17.0,\n",
       " 'Vehicle_Age': 0,\n",
       " 'Vehicle_Damage': 'No',\n",
       " 'Vintage': 189}"
      ]
     },
     "execution_count": 72,
     "metadata": {},
     "output_type": "execute_result"
    }
   ],
   "source": [
    "df.iloc[0].to_dict()"
   ]
  },
  {
   "cell_type": "code",
   "execution_count": 82,
   "id": "c084d32a",
   "metadata": {},
   "outputs": [
    {
     "name": "stdout",
     "output_type": "stream",
     "text": [
      "Клиент не выбран для предложения страховки 0\n"
     ]
    }
   ],
   "source": [
    "import requests\n",
    "\n",
    "def predict_model(data):\n",
    "    url = 'http://127.0.0.1:5000/predict_model'\n",
    "    data = data.to_dict()\n",
    "\n",
    "    # Отправка POST-запроса с данными в формате форм-данных\n",
    "    response = requests.post(url, json = data)\n",
    "\n",
    "    # Проверка статуса ответа\n",
    "    if response.status_code == 200:\n",
    "        return str( response.json()['prediction'])\n",
    "    else:\n",
    "        return {\"error\": f\"Request failed with status code {response.status_code}\"}\n",
    "\n",
    "# Пример данных для предсказания\n",
    "data = df.iloc[0]\n",
    "\n",
    "\n",
    "prediction = predict_model(data)\n",
    "print(prediction, y[0])"
   ]
  },
  {
   "cell_type": "code",
   "execution_count": 88,
   "id": "6d33012f",
   "metadata": {},
   "outputs": [],
   "source": [
    "df = df[df['Region_Code'] != 0.]"
   ]
  },
  {
   "cell_type": "code",
   "execution_count": 92,
   "id": "9e666593",
   "metadata": {},
   "outputs": [
    {
     "name": "stdout",
     "output_type": "stream",
     "text": [
      "              precision    recall  f1-score   support\n",
      "\n",
      "           0       0.88      0.64      0.74     87762\n",
      "           1       0.12      0.36      0.18     12238\n",
      "\n",
      "    accuracy                           0.61    100000\n",
      "   macro avg       0.50      0.50      0.46    100000\n",
      "weighted avg       0.78      0.61      0.67    100000\n",
      "\n"
     ]
    }
   ],
   "source": [
    "res = {'Клиент не выбран для предложения страховки' : 0, 'Клиент выбран для предложения страховки' : 1}\n",
    "y_predict = df[0:100_000].apply(predict_model, axis = 1).map(res)\n",
    "\n",
    "print(classification_report(y[0:100_000], y_predict))"
   ]
  },
  {
   "cell_type": "code",
   "execution_count": 94,
   "id": "6546ebb0",
   "metadata": {},
   "outputs": [
    {
     "name": "stdout",
     "output_type": "stream",
     "text": [
      "(6442687, 10)\n",
      "(6409458, 10)\n"
     ]
    }
   ],
   "source": [
    "df = pd.read_csv('/Users/marinin/Learning/Binary-Classification/test_data.csv')\n",
    "df = df.drop(['id', 'Response'], axis = 1)\n",
    "val_1 = df.shape\n",
    "df_new = df[df['Region_Code'] != 0.]\n",
    "val_2 = df_new.shape\n",
    "print(val_1, val_2, sep = '\\n')\n"
   ]
  }
 ],
 "metadata": {
  "kernelspec": {
   "display_name": "base",
   "language": "python",
   "name": "python3"
  },
  "language_info": {
   "codemirror_mode": {
    "name": "ipython",
    "version": 3
   },
   "file_extension": ".py",
   "mimetype": "text/x-python",
   "name": "python",
   "nbconvert_exporter": "python",
   "pygments_lexer": "ipython3",
   "version": "3.12.4"
  }
 },
 "nbformat": 4,
 "nbformat_minor": 5
}
